{
 "cells": [
  {
   "cell_type": "code",
   "execution_count": 35,
   "id": "d05baf3a",
   "metadata": {},
   "outputs": [],
   "source": [
    "import numpy as np\n",
    "import pandas as pd\n",
    "import requests, zipfile, io, os\n",
    "import json, glob, re, tmdb\n",
    "from importlib import reload\n",
    "from utils import create_directory, update_progress\n",
    "import time\n",
    "import shutil\n",
    "from IPython.display import Image "
   ]
  },
  {
   "cell_type": "code",
   "execution_count": 27,
   "id": "5b8b4a5d",
   "metadata": {},
   "outputs": [],
   "source": [
    "tmdb_api_key = \"a67ce78b9ac0e0f7df8c2fc16c2fd30a\""
   ]
  },
  {
   "cell_type": "code",
   "execution_count": 18,
   "id": "64e3c30c",
   "metadata": {},
   "outputs": [],
   "source": [
    "with open(\"data/features.json\", \"r\") as f:\n",
    "    text_features = json.load(f)\n",
    "\n",
    "all_movies = [json.loads(movie_str) for movie_str in text_features]\n",
    "df_features = pd.DataFrame(all_movies)"
   ]
  },
  {
   "cell_type": "code",
   "execution_count": 21,
   "id": "831d0217",
   "metadata": {},
   "outputs": [],
   "source": [
    "links = pd.read_csv(\"data/links.csv\", dtype={\"tmdb_id\": \"Int64\"})"
   ]
  },
  {
   "cell_type": "code",
   "execution_count": 22,
   "id": "b72d69eb",
   "metadata": {},
   "outputs": [],
   "source": [
    "links_full = links[~links.tmdb_id.isna()][[\"movie_id\", \"tmdb_id\"]]"
   ]
  },
  {
   "cell_type": "code",
   "execution_count": 23,
   "id": "fdada91f",
   "metadata": {},
   "outputs": [],
   "source": [
    "df_item_features = pd.merge(left=df_features, right=links_full, left_on=\"id\", right_on=\"tmdb_id\", how=\"left\")"
   ]
  },
  {
   "cell_type": "code",
   "execution_count": 24,
   "id": "69460726",
   "metadata": {},
   "outputs": [
    {
     "data": {
      "text/html": [
       "<div>\n",
       "<style scoped>\n",
       "    .dataframe tbody tr th:only-of-type {\n",
       "        vertical-align: middle;\n",
       "    }\n",
       "\n",
       "    .dataframe tbody tr th {\n",
       "        vertical-align: top;\n",
       "    }\n",
       "\n",
       "    .dataframe thead th {\n",
       "        text-align: right;\n",
       "    }\n",
       "</style>\n",
       "<table border=\"1\" class=\"dataframe\">\n",
       "  <thead>\n",
       "    <tr style=\"text-align: right;\">\n",
       "      <th></th>\n",
       "      <th>adult</th>\n",
       "      <th>backdrop_path</th>\n",
       "      <th>belongs_to_collection</th>\n",
       "      <th>budget</th>\n",
       "      <th>genres</th>\n",
       "      <th>homepage</th>\n",
       "      <th>id</th>\n",
       "      <th>imdb_id</th>\n",
       "      <th>origin_country</th>\n",
       "      <th>original_language</th>\n",
       "      <th>...</th>\n",
       "      <th>tagline</th>\n",
       "      <th>title</th>\n",
       "      <th>video</th>\n",
       "      <th>vote_average</th>\n",
       "      <th>vote_count</th>\n",
       "      <th>success</th>\n",
       "      <th>status_code</th>\n",
       "      <th>status_message</th>\n",
       "      <th>movie_id</th>\n",
       "      <th>tmdb_id</th>\n",
       "    </tr>\n",
       "  </thead>\n",
       "  <tbody>\n",
       "    <tr>\n",
       "      <th>0</th>\n",
       "      <td>False</td>\n",
       "      <td>/3Rfvhy1Nl6sSGJwyjb0QiZzZYlB.jpg</td>\n",
       "      <td>{'id': 10194, 'name': 'Toy Story Collection', ...</td>\n",
       "      <td>30000000.0</td>\n",
       "      <td>[{'id': 16, 'name': 'Animation'}, {'id': 12, '...</td>\n",
       "      <td>http://toystory.disney.com/toy-story</td>\n",
       "      <td>862.0</td>\n",
       "      <td>tt0114709</td>\n",
       "      <td>[US]</td>\n",
       "      <td>en</td>\n",
       "      <td>...</td>\n",
       "      <td>Hang on for the comedy that goes to infinity a...</td>\n",
       "      <td>Toy Story</td>\n",
       "      <td>False</td>\n",
       "      <td>7.968</td>\n",
       "      <td>18757.0</td>\n",
       "      <td>NaN</td>\n",
       "      <td>NaN</td>\n",
       "      <td>NaN</td>\n",
       "      <td>1.0</td>\n",
       "      <td>862</td>\n",
       "    </tr>\n",
       "    <tr>\n",
       "      <th>1</th>\n",
       "      <td>False</td>\n",
       "      <td>/vm7yMg7YiYisMSeO3mUC5NUKbSB.jpg</td>\n",
       "      <td>{'id': 645, 'name': 'James Bond Collection', '...</td>\n",
       "      <td>60000000.0</td>\n",
       "      <td>[{'id': 12, 'name': 'Adventure'}, {'id': 28, '...</td>\n",
       "      <td>https://mgm.com/movies/goldeneye</td>\n",
       "      <td>710.0</td>\n",
       "      <td>tt0113189</td>\n",
       "      <td>[GB]</td>\n",
       "      <td>en</td>\n",
       "      <td>...</td>\n",
       "      <td>No limits. No fears. No substitutes.</td>\n",
       "      <td>GoldenEye</td>\n",
       "      <td>False</td>\n",
       "      <td>6.900</td>\n",
       "      <td>3990.0</td>\n",
       "      <td>NaN</td>\n",
       "      <td>NaN</td>\n",
       "      <td>NaN</td>\n",
       "      <td>2.0</td>\n",
       "      <td>710</td>\n",
       "    </tr>\n",
       "    <tr>\n",
       "      <th>2</th>\n",
       "      <td>False</td>\n",
       "      <td>/f2t4JbUvQIjUF5FstG1zZFAp02N.jpg</td>\n",
       "      <td>None</td>\n",
       "      <td>4000000.0</td>\n",
       "      <td>[{'id': 35, 'name': 'Comedy'}, {'id': 80, 'nam...</td>\n",
       "      <td>https://www.miramax.com/movie/four-rooms/</td>\n",
       "      <td>5.0</td>\n",
       "      <td>tt0113101</td>\n",
       "      <td>[US]</td>\n",
       "      <td>en</td>\n",
       "      <td>...</td>\n",
       "      <td>Twelve outrageous guests. Four scandalous requ...</td>\n",
       "      <td>Four Rooms</td>\n",
       "      <td>False</td>\n",
       "      <td>5.859</td>\n",
       "      <td>2686.0</td>\n",
       "      <td>NaN</td>\n",
       "      <td>NaN</td>\n",
       "      <td>NaN</td>\n",
       "      <td>3.0</td>\n",
       "      <td>5</td>\n",
       "    </tr>\n",
       "    <tr>\n",
       "      <th>3</th>\n",
       "      <td>False</td>\n",
       "      <td>/7KpwYPe6DfxutCFzJRpaTPtFu2o.jpg</td>\n",
       "      <td>{'id': 91698, 'name': 'Chili Palmer Collection...</td>\n",
       "      <td>30250000.0</td>\n",
       "      <td>[{'id': 35, 'name': 'Comedy'}, {'id': 53, 'nam...</td>\n",
       "      <td></td>\n",
       "      <td>8012.0</td>\n",
       "      <td>tt0113161</td>\n",
       "      <td>[US]</td>\n",
       "      <td>en</td>\n",
       "      <td>...</td>\n",
       "      <td>Attitude plays a part.</td>\n",
       "      <td>Get Shorty</td>\n",
       "      <td>False</td>\n",
       "      <td>6.495</td>\n",
       "      <td>1090.0</td>\n",
       "      <td>NaN</td>\n",
       "      <td>NaN</td>\n",
       "      <td>NaN</td>\n",
       "      <td>4.0</td>\n",
       "      <td>8012</td>\n",
       "    </tr>\n",
       "    <tr>\n",
       "      <th>4</th>\n",
       "      <td>False</td>\n",
       "      <td>/f0wTYitK1lELuGygXslG7SQpY0E.jpg</td>\n",
       "      <td>None</td>\n",
       "      <td>20000000.0</td>\n",
       "      <td>[{'id': 53, 'name': 'Thriller'}, {'id': 80, 'n...</td>\n",
       "      <td></td>\n",
       "      <td>1710.0</td>\n",
       "      <td>tt0112722</td>\n",
       "      <td>[US]</td>\n",
       "      <td>en</td>\n",
       "      <td>...</td>\n",
       "      <td>One man is copying the most notorious killers ...</td>\n",
       "      <td>Copycat</td>\n",
       "      <td>False</td>\n",
       "      <td>6.507</td>\n",
       "      <td>995.0</td>\n",
       "      <td>NaN</td>\n",
       "      <td>NaN</td>\n",
       "      <td>NaN</td>\n",
       "      <td>5.0</td>\n",
       "      <td>1710</td>\n",
       "    </tr>\n",
       "  </tbody>\n",
       "</table>\n",
       "<p>5 rows × 31 columns</p>\n",
       "</div>"
      ],
      "text/plain": [
       "   adult                     backdrop_path  \\\n",
       "0  False  /3Rfvhy1Nl6sSGJwyjb0QiZzZYlB.jpg   \n",
       "1  False  /vm7yMg7YiYisMSeO3mUC5NUKbSB.jpg   \n",
       "2  False  /f2t4JbUvQIjUF5FstG1zZFAp02N.jpg   \n",
       "3  False  /7KpwYPe6DfxutCFzJRpaTPtFu2o.jpg   \n",
       "4  False  /f0wTYitK1lELuGygXslG7SQpY0E.jpg   \n",
       "\n",
       "                               belongs_to_collection      budget  \\\n",
       "0  {'id': 10194, 'name': 'Toy Story Collection', ...  30000000.0   \n",
       "1  {'id': 645, 'name': 'James Bond Collection', '...  60000000.0   \n",
       "2                                               None   4000000.0   \n",
       "3  {'id': 91698, 'name': 'Chili Palmer Collection...  30250000.0   \n",
       "4                                               None  20000000.0   \n",
       "\n",
       "                                              genres  \\\n",
       "0  [{'id': 16, 'name': 'Animation'}, {'id': 12, '...   \n",
       "1  [{'id': 12, 'name': 'Adventure'}, {'id': 28, '...   \n",
       "2  [{'id': 35, 'name': 'Comedy'}, {'id': 80, 'nam...   \n",
       "3  [{'id': 35, 'name': 'Comedy'}, {'id': 53, 'nam...   \n",
       "4  [{'id': 53, 'name': 'Thriller'}, {'id': 80, 'n...   \n",
       "\n",
       "                                    homepage      id    imdb_id  \\\n",
       "0       http://toystory.disney.com/toy-story   862.0  tt0114709   \n",
       "1           https://mgm.com/movies/goldeneye   710.0  tt0113189   \n",
       "2  https://www.miramax.com/movie/four-rooms/     5.0  tt0113101   \n",
       "3                                             8012.0  tt0113161   \n",
       "4                                             1710.0  tt0112722   \n",
       "\n",
       "  origin_country original_language  ...  \\\n",
       "0           [US]                en  ...   \n",
       "1           [GB]                en  ...   \n",
       "2           [US]                en  ...   \n",
       "3           [US]                en  ...   \n",
       "4           [US]                en  ...   \n",
       "\n",
       "                                             tagline       title  video  \\\n",
       "0  Hang on for the comedy that goes to infinity a...   Toy Story  False   \n",
       "1               No limits. No fears. No substitutes.   GoldenEye  False   \n",
       "2  Twelve outrageous guests. Four scandalous requ...  Four Rooms  False   \n",
       "3                             Attitude plays a part.  Get Shorty  False   \n",
       "4  One man is copying the most notorious killers ...     Copycat  False   \n",
       "\n",
       "  vote_average vote_count success status_code  status_message  movie_id  \\\n",
       "0        7.968    18757.0     NaN         NaN             NaN       1.0   \n",
       "1        6.900     3990.0     NaN         NaN             NaN       2.0   \n",
       "2        5.859     2686.0     NaN         NaN             NaN       3.0   \n",
       "3        6.495     1090.0     NaN         NaN             NaN       4.0   \n",
       "4        6.507      995.0     NaN         NaN             NaN       5.0   \n",
       "\n",
       "  tmdb_id  \n",
       "0     862  \n",
       "1     710  \n",
       "2       5  \n",
       "3    8012  \n",
       "4    1710  \n",
       "\n",
       "[5 rows x 31 columns]"
      ]
     },
     "execution_count": 24,
     "metadata": {},
     "output_type": "execute_result"
    }
   ],
   "source": [
    "df_item_features.head()"
   ]
  },
  {
   "cell_type": "code",
   "execution_count": 25,
   "id": "9f60f80c",
   "metadata": {},
   "outputs": [],
   "source": [
    "df_item_features.to_csv(\"data/item_features.csv\", index=None)"
   ]
  },
  {
   "cell_type": "code",
   "execution_count": 26,
   "id": "e6f585e1",
   "metadata": {},
   "outputs": [
    {
     "name": "stdout",
     "output_type": "stream",
     "text": [
      "Successfully created directory d:\\Work\\Development\\recommendation_system/data/posters\n"
     ]
    }
   ],
   "source": [
    "create_directory(\"/data/posters\")"
   ]
  },
  {
   "cell_type": "code",
   "execution_count": 32,
   "id": "cdb33bcc",
   "metadata": {},
   "outputs": [],
   "source": [
    "def poster(movie_id, df):\n",
    "    \"\"\"\n",
    "    Gets the movie poster from the movie_id\n",
    "    \n",
    "    poster_path (string): path for the poster\n",
    "    df (pd.Dataframe): pandas dataframe with movie id and poster_path\n",
    "    \"\"\"\n",
    "    directory_path = \"data/posters/\"    \n",
    "    poster_path = df[df.movie_id == movie_id].poster_path.values[0]\n",
    "    if poster_path == None:\n",
    "        poster_path = \"\"\n",
    "    \n",
    "    save_path = directory_path + str(movie_id) + \".jpg\"\n",
    "    \n",
    "    base_url = \"https://image.tmdb.org/t/p/w92\"\n",
    "    url = base_url + poster_path + f\"?api_key={tmdb_api_key}\" \n",
    "    \n",
    "    response = requests.request(\"GET\", url, stream=True)\n",
    "    if response.status_code == 200:\n",
    "        with open(save_path, 'wb') as out_file:\n",
    "            response.raw.decode_content = True \n",
    "            shutil.copyfileobj(response.raw, out_file)\n",
    "        return True\n",
    "    else: \n",
    "        return False"
   ]
  },
  {
   "cell_type": "code",
   "execution_count": 33,
   "id": "c8e30663",
   "metadata": {},
   "outputs": [
    {
     "data": {
      "text/plain": [
       "True"
      ]
     },
     "execution_count": 33,
     "metadata": {},
     "output_type": "execute_result"
    }
   ],
   "source": [
    "poster(1, df_item_features)"
   ]
  },
  {
   "cell_type": "code",
   "execution_count": 39,
   "id": "995aeb90",
   "metadata": {},
   "outputs": [
    {
     "data": {
      "image/jpeg": "[encoded data removed]",
      "text/plain": [
       "<IPython.core.display.Image object>"
      ]
     },
     "execution_count": 39,
     "metadata": {},
     "output_type": "execute_result"
    }
   ],
   "source": [
    "Image(filename='data/posters/1.jpg')"
   ]
  },
  {
   "cell_type": "markdown",
   "id": "7ad93dbb",
   "metadata": {},
   "source": [
    "# Refine the data"
   ]
  },
  {
   "cell_type": "code",
   "execution_count": 40,
   "id": "f293eb96",
   "metadata": {},
   "outputs": [],
   "source": [
    "items_raw = pd.read_csv(\"data/items_raw.csv\")\n",
    "item_features = pd.read_csv(\"data/item_features.csv\")"
   ]
  },
  {
   "cell_type": "code",
   "execution_count": 42,
   "id": "ab8856f8",
   "metadata": {},
   "outputs": [],
   "source": [
    "items_raw[\"release_date\"] = pd.to_datetime(items_raw.release_date)\n",
    "items_raw[\"year\"] = items_raw.release_date.apply(lambda x: str(x.year))"
   ]
  },
  {
   "cell_type": "code",
   "execution_count": 43,
   "id": "77dacfd8",
   "metadata": {},
   "outputs": [],
   "source": [
    "items_main = items_raw.drop(['video_release_date', 'release_date', 'imdb_url'], axis=1).copy()"
   ]
  },
  {
   "cell_type": "code",
   "execution_count": 44,
   "id": "47b6503b",
   "metadata": {},
   "outputs": [],
   "source": [
    "items_addtl = item_features[['overview', 'original_language', 'runtime', 'vote_average', 'vote_count', \"movie_id\"]].copy()"
   ]
  },
  {
   "cell_type": "code",
   "execution_count": 45,
   "id": "fb4d92d8",
   "metadata": {},
   "outputs": [],
   "source": [
    "items = pd.merge(left=items_main, right=items_addtl, on=\"movie_id\", how=\"left\")"
   ]
  },
  {
   "cell_type": "code",
   "execution_count": 47,
   "id": "b683418e",
   "metadata": {},
   "outputs": [
    {
     "data": {
      "text/html": [
       "<div>\n",
       "<style scoped>\n",
       "    .dataframe tbody tr th:only-of-type {\n",
       "        vertical-align: middle;\n",
       "    }\n",
       "\n",
       "    .dataframe tbody tr th {\n",
       "        vertical-align: top;\n",
       "    }\n",
       "\n",
       "    .dataframe thead th {\n",
       "        text-align: right;\n",
       "    }\n",
       "</style>\n",
       "<table border=\"1\" class=\"dataframe\">\n",
       "  <thead>\n",
       "    <tr style=\"text-align: right;\">\n",
       "      <th></th>\n",
       "      <th>movie_id</th>\n",
       "      <th>title</th>\n",
       "      <th>genre_unknown</th>\n",
       "      <th>Action</th>\n",
       "      <th>Adventure</th>\n",
       "      <th>Animation</th>\n",
       "      <th>Children</th>\n",
       "      <th>Comedy</th>\n",
       "      <th>Crime</th>\n",
       "      <th>Documentary</th>\n",
       "      <th>...</th>\n",
       "      <th>SciFi</th>\n",
       "      <th>Thriller</th>\n",
       "      <th>War</th>\n",
       "      <th>Western</th>\n",
       "      <th>year</th>\n",
       "      <th>overview</th>\n",
       "      <th>original_language</th>\n",
       "      <th>runtime</th>\n",
       "      <th>vote_average</th>\n",
       "      <th>vote_count</th>\n",
       "    </tr>\n",
       "  </thead>\n",
       "  <tbody>\n",
       "    <tr>\n",
       "      <th>0</th>\n",
       "      <td>1</td>\n",
       "      <td>Toy Story (1995)</td>\n",
       "      <td>0</td>\n",
       "      <td>0</td>\n",
       "      <td>0</td>\n",
       "      <td>1</td>\n",
       "      <td>1</td>\n",
       "      <td>1</td>\n",
       "      <td>0</td>\n",
       "      <td>0</td>\n",
       "      <td>...</td>\n",
       "      <td>0</td>\n",
       "      <td>0</td>\n",
       "      <td>0</td>\n",
       "      <td>0</td>\n",
       "      <td>1995</td>\n",
       "      <td>Led by Woody, Andy's toys live happily in his ...</td>\n",
       "      <td>en</td>\n",
       "      <td>81.0</td>\n",
       "      <td>7.968</td>\n",
       "      <td>18757.0</td>\n",
       "    </tr>\n",
       "    <tr>\n",
       "      <th>1</th>\n",
       "      <td>2</td>\n",
       "      <td>GoldenEye (1995)</td>\n",
       "      <td>0</td>\n",
       "      <td>1</td>\n",
       "      <td>1</td>\n",
       "      <td>0</td>\n",
       "      <td>0</td>\n",
       "      <td>0</td>\n",
       "      <td>0</td>\n",
       "      <td>0</td>\n",
       "      <td>...</td>\n",
       "      <td>0</td>\n",
       "      <td>1</td>\n",
       "      <td>0</td>\n",
       "      <td>0</td>\n",
       "      <td>1995</td>\n",
       "      <td>When a powerful satellite system falls into th...</td>\n",
       "      <td>en</td>\n",
       "      <td>130.0</td>\n",
       "      <td>6.900</td>\n",
       "      <td>3990.0</td>\n",
       "    </tr>\n",
       "    <tr>\n",
       "      <th>2</th>\n",
       "      <td>3</td>\n",
       "      <td>Four Rooms (1995)</td>\n",
       "      <td>0</td>\n",
       "      <td>0</td>\n",
       "      <td>0</td>\n",
       "      <td>0</td>\n",
       "      <td>0</td>\n",
       "      <td>0</td>\n",
       "      <td>0</td>\n",
       "      <td>0</td>\n",
       "      <td>...</td>\n",
       "      <td>0</td>\n",
       "      <td>1</td>\n",
       "      <td>0</td>\n",
       "      <td>0</td>\n",
       "      <td>1995</td>\n",
       "      <td>It's Ted the Bellhop's first night on the job....</td>\n",
       "      <td>en</td>\n",
       "      <td>98.0</td>\n",
       "      <td>5.859</td>\n",
       "      <td>2686.0</td>\n",
       "    </tr>\n",
       "    <tr>\n",
       "      <th>3</th>\n",
       "      <td>4</td>\n",
       "      <td>Get Shorty (1995)</td>\n",
       "      <td>0</td>\n",
       "      <td>1</td>\n",
       "      <td>0</td>\n",
       "      <td>0</td>\n",
       "      <td>0</td>\n",
       "      <td>1</td>\n",
       "      <td>0</td>\n",
       "      <td>0</td>\n",
       "      <td>...</td>\n",
       "      <td>0</td>\n",
       "      <td>0</td>\n",
       "      <td>0</td>\n",
       "      <td>0</td>\n",
       "      <td>1995</td>\n",
       "      <td>Chili Palmer is a Miami mobster who gets sent ...</td>\n",
       "      <td>en</td>\n",
       "      <td>105.0</td>\n",
       "      <td>6.495</td>\n",
       "      <td>1090.0</td>\n",
       "    </tr>\n",
       "    <tr>\n",
       "      <th>4</th>\n",
       "      <td>5</td>\n",
       "      <td>Copycat (1995)</td>\n",
       "      <td>0</td>\n",
       "      <td>0</td>\n",
       "      <td>0</td>\n",
       "      <td>0</td>\n",
       "      <td>0</td>\n",
       "      <td>0</td>\n",
       "      <td>1</td>\n",
       "      <td>0</td>\n",
       "      <td>...</td>\n",
       "      <td>0</td>\n",
       "      <td>1</td>\n",
       "      <td>0</td>\n",
       "      <td>0</td>\n",
       "      <td>1995</td>\n",
       "      <td>An agoraphobic psychologist and a female detec...</td>\n",
       "      <td>en</td>\n",
       "      <td>124.0</td>\n",
       "      <td>6.507</td>\n",
       "      <td>995.0</td>\n",
       "    </tr>\n",
       "  </tbody>\n",
       "</table>\n",
       "<p>5 rows × 27 columns</p>\n",
       "</div>"
      ],
      "text/plain": [
       "   movie_id              title  genre_unknown  Action  Adventure  Animation  \\\n",
       "0         1   Toy Story (1995)              0       0          0          1   \n",
       "1         2   GoldenEye (1995)              0       1          1          0   \n",
       "2         3  Four Rooms (1995)              0       0          0          0   \n",
       "3         4  Get Shorty (1995)              0       1          0          0   \n",
       "4         5     Copycat (1995)              0       0          0          0   \n",
       "\n",
       "   Children  Comedy  Crime  Documentary  ...  SciFi  Thriller  War  Western  \\\n",
       "0         1       1      0            0  ...      0         0    0        0   \n",
       "1         0       0      0            0  ...      0         1    0        0   \n",
       "2         0       0      0            0  ...      0         1    0        0   \n",
       "3         0       1      0            0  ...      0         0    0        0   \n",
       "4         0       0      1            0  ...      0         1    0        0   \n",
       "\n",
       "   year                                           overview  original_language  \\\n",
       "0  1995  Led by Woody, Andy's toys live happily in his ...                 en   \n",
       "1  1995  When a powerful satellite system falls into th...                 en   \n",
       "2  1995  It's Ted the Bellhop's first night on the job....                 en   \n",
       "3  1995  Chili Palmer is a Miami mobster who gets sent ...                 en   \n",
       "4  1995  An agoraphobic psychologist and a female detec...                 en   \n",
       "\n",
       "   runtime  vote_average  vote_count  \n",
       "0     81.0         7.968     18757.0  \n",
       "1    130.0         6.900      3990.0  \n",
       "2     98.0         5.859      2686.0  \n",
       "3    105.0         6.495      1090.0  \n",
       "4    124.0         6.507       995.0  \n",
       "\n",
       "[5 rows x 27 columns]"
      ]
     },
     "execution_count": 47,
     "metadata": {},
     "output_type": "execute_result"
    }
   ],
   "source": [
    "items.head()"
   ]
  },
  {
   "cell_type": "code",
   "execution_count": 48,
   "id": "c4d4263e",
   "metadata": {},
   "outputs": [],
   "source": [
    "items.to_csv(\"data/items.csv\", index=None)"
   ]
  },
  {
   "cell_type": "markdown",
   "id": "23dc65c6",
   "metadata": {},
   "source": [
    "# Users"
   ]
  },
  {
   "cell_type": "code",
   "execution_count": 51,
   "id": "ce874c7f",
   "metadata": {},
   "outputs": [
    {
     "name": "stdout",
     "output_type": "stream",
     "text": [
      "Apple is looking at buying U.K. startup for $1 billion\n",
      "Apple PROPN nsubj\n",
      "is AUX aux\n",
      "looking VERB ROOT\n",
      "at ADP prep\n",
      "buying VERB pcomp\n",
      "U.K. PROPN dobj\n",
      "startup VERB advcl\n",
      "for ADP prep\n",
      "$ SYM quantmod\n",
      "1 NUM compound\n",
      "billion NUM pobj\n"
     ]
    }
   ],
   "source": [
    "import spacy\n",
    "from spacy.lang.en.examples import sentences \n",
    "\n",
    "nlp = spacy.load('en_core_web_lg')\n",
    "doc = nlp(sentences[0])\n",
    "print(doc.text)\n",
    "for token in doc:\n",
    "    print(token.text, token.pos_, token.dep_)"
   ]
  },
  {
   "cell_type": "code",
   "execution_count": 52,
   "id": "0431c9c1",
   "metadata": {},
   "outputs": [],
   "source": [
    "tokens = nlp(u'dog cat banana')"
   ]
  },
  {
   "cell_type": "code",
   "execution_count": 53,
   "id": "0c87230c",
   "metadata": {},
   "outputs": [
    {
     "name": "stdout",
     "output_type": "stream",
     "text": [
      "dog dog 1.0\n",
      "dog cat 0.8016854524612427\n",
      "dog banana 0.2432764321565628\n",
      "cat dog 0.8016854524612427\n",
      "cat cat 1.0\n",
      "cat banana 0.28154364228248596\n",
      "banana dog 0.2432764321565628\n",
      "banana cat 0.28154364228248596\n",
      "banana banana 1.0\n"
     ]
    }
   ],
   "source": [
    "for token1 in tokens:\n",
    "    for token2 in tokens:\n",
    "        print(token1.text, token2.text, token1.similarity(token2))"
   ]
  },
  {
   "cell_type": "code",
   "execution_count": 54,
   "id": "5a370bb2",
   "metadata": {},
   "outputs": [
    {
     "name": "stderr",
     "output_type": "stream",
     "text": [
      "d:\\Work\\Development\\recommendation_system\\venv\\Lib\\site-packages\\tqdm\\auto.py:21: TqdmWarning: IProgress not found. Please update jupyter and ipywidgets. See https://ipywidgets.readthedocs.io/en/stable/user_install.html\n",
      "  from .autonotebook import tqdm as notebook_tqdm\n",
      "d:\\Work\\Development\\recommendation_system\\venv\\Lib\\site-packages\\sklearn\\utils\\deprecation.py:151: FutureWarning: 'force_all_finite' was renamed to 'ensure_all_finite' in 1.6 and will be removed in 1.8.\n",
      "  warnings.warn(\n"
     ]
    }
   ],
   "source": [
    "import umap\n",
    "from sklearn.datasets import load_digits\n",
    "\n",
    "digits = load_digits()\n",
    "\n",
    "embedding = umap.UMAP().fit_transform(digits.data)"
   ]
  },
  {
   "cell_type": "code",
   "execution_count": null,
   "id": "ed49e97b",
   "metadata": {},
   "outputs": [],
   "source": []
  }
 ],
 "metadata": {
  "kernelspec": {
   "display_name": "venv",
   "language": "python",
   "name": "python3"
  },
  "language_info": {
   "codemirror_mode": {
    "name": "ipython",
    "version": 3
   },
   "file_extension": ".py",
   "mimetype": "text/x-python",
   "name": "python",
   "nbconvert_exporter": "python",
   "pygments_lexer": "ipython3",
   "version": "3.12.4"
  }
 },
 "nbformat": 4,
 "nbformat_minor": 5
}
