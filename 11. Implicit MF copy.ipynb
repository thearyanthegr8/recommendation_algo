{
 "cells": [
  {
   "cell_type": "markdown",
   "id": "a5a8d06a",
   "metadata": {},
   "source": [
    "# Matrix Factorisation - Implicit"
   ]
  },
  {
   "cell_type": "code",
   "execution_count": 1,
   "id": "b31cb57b",
   "metadata": {},
   "outputs": [],
   "source": [
    "import sys\n",
    "sys.path.append(\"../\")\n",
    "\n",
    "import warnings\n",
    "warnings.filterwarnings(\"ignore\")"
   ]
  },
  {
   "cell_type": "code",
   "execution_count": null,
   "id": "4ff48ef6",
   "metadata": {},
   "outputs": [],
   "source": [
    "import pandas as pd\n",
    "from reco.preprocess import encode_user_item, random_split, neg_feedback_samples"
   ]
  },
  {
   "cell_type": "code",
   "execution_count": 4,
   "id": "7510563d",
   "metadata": {},
   "outputs": [],
   "source": [
    "%matplotlib inline"
   ]
  },
  {
   "cell_type": "markdown",
   "id": "a118409b",
   "metadata": {},
   "source": [
    "## Prepare the data"
   ]
  },
  {
   "cell_type": "code",
   "execution_count": 5,
   "id": "7d1d15e2",
   "metadata": {},
   "outputs": [],
   "source": [
    "df_ratings = pd.read_csv(\"data/ratings.csv\")\n",
    "df_items = pd.read_csv(\"data/items.csv\")\n",
    "df_implicit = neg_feedback_samples(df_ratings, rating_threshold=3, ratio_neg_per_user=1)\n",
    "df_implicit[\"unix_timestamp\"] = 1\n"
   ]
  },
  {
   "cell_type": "code",
   "execution_count": 6,
   "id": "53930be0",
   "metadata": {},
   "outputs": [
    {
     "data": {
      "text/plain": [
       "((100000, 4), (165040, 4))"
      ]
     },
     "execution_count": 6,
     "metadata": {},
     "output_type": "execute_result"
    }
   ],
   "source": [
    "df_ratings.shape, df_implicit.shape"
   ]
  },
  {
   "cell_type": "code",
   "execution_count": 7,
   "id": "20f615ed",
   "metadata": {},
   "outputs": [
    {
     "name": "stdout",
     "output_type": "stream",
     "text": [
      "Number of users:  943\n",
      "Number of items:  1682\n"
     ]
    }
   ],
   "source": [
    "DATA, user_encoder, item_encoder = encode_user_item(df_implicit, \"user_id\", \"movie_id\", \"rating\", \"unix_timestamp\")"
   ]
  },
  {
   "cell_type": "code",
   "execution_count": 8,
   "id": "b3d28a9d",
   "metadata": {},
   "outputs": [
    {
     "data": {
      "text/plain": [
       "(943, 1682)"
      ]
     },
     "execution_count": 8,
     "metadata": {},
     "output_type": "execute_result"
    }
   ],
   "source": [
    "n_users = DATA.USER.nunique()\n",
    "n_items = DATA.ITEM.nunique()\n",
    "n_users, n_items"
   ]
  },
  {
   "cell_type": "code",
   "execution_count": 9,
   "id": "44e3859a",
   "metadata": {},
   "outputs": [
    {
     "data": {
      "text/plain": [
       "(np.int64(0), np.int64(1))"
      ]
     },
     "execution_count": 9,
     "metadata": {},
     "output_type": "execute_result"
    }
   ],
   "source": [
    "max_rating = DATA.RATING.max()\n",
    "min_rating = DATA.RATING.min()\n",
    "min_rating, max_rating"
   ]
  },
  {
   "cell_type": "code",
   "execution_count": 10,
   "id": "dc3eca64",
   "metadata": {},
   "outputs": [],
   "source": [
    "train, test = random_split(DATA, [0.8, 0.2])"
   ]
  },
  {
   "cell_type": "code",
   "execution_count": 11,
   "id": "e5e2ba21",
   "metadata": {},
   "outputs": [
    {
     "data": {
      "text/plain": [
       "((132032, 7), (33008, 7))"
      ]
     },
     "execution_count": 11,
     "metadata": {},
     "output_type": "execute_result"
    }
   ],
   "source": [
    "train.shape, test.shape"
   ]
  },
  {
   "cell_type": "markdown",
   "id": "98443878",
   "metadata": {},
   "source": [
    "# Implicit Matrix Factorisation"
   ]
  },
  {
   "cell_type": "code",
   "execution_count": 27,
   "id": "f9ef7666",
   "metadata": {},
   "outputs": [],
   "source": [
    "from keras.models import Model\n",
    "from keras.layers import Input, Embedding, Flatten, Dot\n",
    "from keras.regularizers import l2\n",
    "from sklearn.neighbors import NearestNeighbors"
   ]
  },
  {
   "cell_type": "code",
   "execution_count": 13,
   "id": "67d7bb90",
   "metadata": {},
   "outputs": [],
   "source": [
    "def ImplicitMF (n_users, n_items, n_factors):\n",
    "    \n",
    "    # Item Layer\n",
    "    item_input = Input(shape=[1], name='Item')\n",
    "    item_embedding = Embedding(n_items, n_factors, \n",
    "                               embeddings_regularizer=l2(1e-6), \n",
    "                               name='ItemEmbedding')(item_input)\n",
    "    item_vec = Flatten(name='FlattenItemsE')(item_embedding)\n",
    "\n",
    "    # User Layer\n",
    "    user_input = Input(shape=[1], name='User')\n",
    "    user_embedding = Embedding(n_users, n_factors, \n",
    "                               embeddings_regularizer=l2(1e-6), \n",
    "                               name='UserEmbedding')(user_input)\n",
    "    user_vec = Flatten(name='FlattenUsersE')(user_embedding)\n",
    "\n",
    "    # Dot Product of Item and User\n",
    "    rating = Dot(axes=1, name='DotProduct')([item_vec, user_vec])\n",
    "    \n",
    "    # Model Creation\n",
    "    model = Model([user_input, item_input], rating)\n",
    "    \n",
    "    # Compile Model\n",
    "    model.compile(loss='binary_crossentropy', optimizer=\"sgd\")\n",
    "    \n",
    "    return model"
   ]
  },
  {
   "cell_type": "code",
   "execution_count": 14,
   "id": "1575199c",
   "metadata": {},
   "outputs": [],
   "source": [
    "n_factors = 40\n",
    "model = ImplicitMF(n_users, n_items, n_factors)"
   ]
  },
  {
   "cell_type": "code",
   "execution_count": 15,
   "id": "9d0abef1",
   "metadata": {},
   "outputs": [
    {
     "name": "stdout",
     "output_type": "stream",
     "text": [
      "Epoch 1/5\n",
      "\u001b[1m826/826\u001b[0m \u001b[32m━━━━━━━━━━━━━━━━━━━━\u001b[0m\u001b[37m\u001b[0m \u001b[1m1s\u001b[0m 1ms/step - loss: 5.3389 - val_loss: 5.4325\n",
      "Epoch 2/5\n",
      "\u001b[1m826/826\u001b[0m \u001b[32m━━━━━━━━━━━━━━━━━━━━\u001b[0m\u001b[37m\u001b[0m \u001b[1m1s\u001b[0m 1ms/step - loss: 4.1589 - val_loss: 5.3641\n",
      "Epoch 3/5\n",
      "\u001b[1m826/826\u001b[0m \u001b[32m━━━━━━━━━━━━━━━━━━━━\u001b[0m\u001b[37m\u001b[0m \u001b[1m1s\u001b[0m 1ms/step - loss: 3.0583 - val_loss: 5.3318\n",
      "Epoch 4/5\n",
      "\u001b[1m826/826\u001b[0m \u001b[32m━━━━━━━━━━━━━━━━━━━━\u001b[0m\u001b[37m\u001b[0m \u001b[1m1s\u001b[0m 1ms/step - loss: 2.4312 - val_loss: 5.3087\n",
      "Epoch 5/5\n",
      "\u001b[1m826/826\u001b[0m \u001b[32m━━━━━━━━━━━━━━━━━━━━\u001b[0m\u001b[37m\u001b[0m \u001b[1m1s\u001b[0m 1ms/step - loss: 2.0991 - val_loss: 5.2884\n",
      "CPU times: total: 13 s\n",
      "Wall time: 5 s\n"
     ]
    }
   ],
   "source": [
    "%%time\n",
    "output = model.fit([train.USER, train.ITEM], train.RATING, \n",
    "                                  batch_size=128, epochs=5, verbose=1, validation_split=0.2)"
   ]
  },
  {
   "cell_type": "code",
   "execution_count": null,
   "id": "86973f69",
   "metadata": {},
   "outputs": [],
   "source": [
    "def get_embedding(model, name):\n",
    "    embedding = model.get_layer(name=name).get_weights()[0]\n",
    "    return embedding"
   ]
  },
  {
   "cell_type": "code",
   "execution_count": 17,
   "id": "baa42a1c",
   "metadata": {},
   "outputs": [],
   "source": [
    "item_embedding = get_embedding(model, \"ItemEmbedding\")\n",
    "user_embedding = get_embedding(model, \"UserEmbedding\")"
   ]
  },
  {
   "cell_type": "code",
   "execution_count": 28,
   "id": "1933a820",
   "metadata": {},
   "outputs": [],
   "source": [
    "def get_similar(embedding, k):\n",
    "    model_similar_items = NearestNeighbors(n_neighbors=k, algorithm=\"ball_tree\").fit(\n",
    "        embedding\n",
    "    )\n",
    "    distances, indices = model_similar_items.kneighbors(embedding)\n",
    "\n",
    "    return distances, indices"
   ]
  },
  {
   "cell_type": "code",
   "execution_count": 29,
   "id": "2207766d",
   "metadata": {},
   "outputs": [
    {
     "name": "stdout",
     "output_type": "stream",
     "text": [
      "CPU times: total: 78.1 ms\n",
      "Wall time: 84 ms\n"
     ]
    }
   ],
   "source": [
    "%%time\n",
    "item_distances, item_similar_indices = get_similar(item_embedding, 5)"
   ]
  },
  {
   "cell_type": "code",
   "execution_count": 30,
   "id": "b4828f04",
   "metadata": {},
   "outputs": [
    {
     "data": {
      "text/plain": [
       "array([[   0,  143,  237,  635,  624],\n",
       "       [   1,  465,  211,  245,  692],\n",
       "       [   2,  716,  211,   45,  549],\n",
       "       ...,\n",
       "       [1679,  919, 1339,  137, 1542],\n",
       "       [1680, 1560, 1076, 1669,  869],\n",
       "       [1681, 1570, 1649, 1450, 1061]])"
      ]
     },
     "execution_count": 30,
     "metadata": {},
     "output_type": "execute_result"
    }
   ],
   "source": [
    "item_similar_indices"
   ]
  },
  {
   "cell_type": "code",
   "execution_count": 31,
   "id": "766d7d58",
   "metadata": {},
   "outputs": [],
   "source": [
    "def show_similar(item_index, item_similar_indices, item_encoder, df_items):\n",
    "    s = item_similar_indices[item_index]\n",
    "    movie_ids = item_encoder.inverse_transform(s)\n",
    "\n",
    "    titles = []\n",
    "    for movie_id in movie_ids:\n",
    "        movie = df_items[df_items[\"movie_id\"] == movie_id]\n",
    "        if not movie.empty:\n",
    "            # Extract just the string value from the Series\n",
    "            title = movie['title'].values[0]\n",
    "            titles.append(title)\n",
    "\n",
    "    if not titles:\n",
    "        print(\"No images found to display\")\n",
    "        return\n",
    "\n",
    "    for title in titles:\n",
    "        print(title)"
   ]
  },
  {
   "cell_type": "code",
   "execution_count": 32,
   "id": "f58918d8",
   "metadata": {},
   "outputs": [
    {
     "name": "stdout",
     "output_type": "stream",
     "text": [
      "Toy Story (1995)\n",
      "Die Hard (1988)\n",
      "Raising Arizona (1987)\n",
      "Escape from New York (1981)\n",
      "Sword in the Stone, The (1963)\n"
     ]
    }
   ],
   "source": [
    "show_similar(0, item_similar_indices, item_encoder, df_items=df_items)"
   ]
  },
  {
   "cell_type": "code",
   "execution_count": null,
   "id": "91468a7e",
   "metadata": {},
   "outputs": [],
   "source": []
  }
 ],
 "metadata": {
  "kernelspec": {
   "display_name": "venv",
   "language": "python",
   "name": "python3"
  },
  "language_info": {
   "codemirror_mode": {
    "name": "ipython",
    "version": 3
   },
   "file_extension": ".py",
   "mimetype": "text/x-python",
   "name": "python",
   "nbconvert_exporter": "python",
   "pygments_lexer": "ipython3",
   "version": "3.12.4"
  }
 },
 "nbformat": 4,
 "nbformat_minor": 5
}
