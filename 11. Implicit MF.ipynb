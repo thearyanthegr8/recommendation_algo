{
 "cells": [
  {
   "cell_type": "markdown",
   "id": "a5a8d06a",
   "metadata": {},
   "source": [
    "# Matrix Factorisation - Implicit"
   ]
  },
  {
   "cell_type": "code",
   "execution_count": 1,
   "id": "b31cb57b",
   "metadata": {},
   "outputs": [],
   "source": [
    "import sys\n",
    "sys.path.append(\"../\")\n",
    "\n",
    "import warnings\n",
    "warnings.filterwarnings(\"ignore\")"
   ]
  },
  {
   "cell_type": "code",
   "execution_count": 2,
   "id": "4ff48ef6",
   "metadata": {},
   "outputs": [],
   "source": [
    "import numpy as np\n",
    "import pandas as pd\n",
    "from IPython.display import SVG, display\n",
    "import matplotlib.pyplot as plt\n",
    "import seaborn as sns\n",
    "from reco.preprocess import encode_user_item, random_split, user_split, neg_feedback_samples\n",
    "from reco.evaluate import user_item_crossjoin, filter_by"
   ]
  },
  {
   "cell_type": "code",
   "execution_count": 3,
   "id": "7510563d",
   "metadata": {},
   "outputs": [],
   "source": [
    "%matplotlib inline"
   ]
  },
  {
   "cell_type": "markdown",
   "id": "a118409b",
   "metadata": {},
   "source": [
    "## Prepare the data"
   ]
  },
  {
   "cell_type": "code",
   "execution_count": 4,
   "id": "7d1d15e2",
   "metadata": {},
   "outputs": [],
   "source": [
    "df_ratings = pd.read_csv(\"data/ratings.csv\")\n",
    "df_items = pd.read_csv(\"data/items.csv\")\n",
    "df_implicit = neg_feedback_samples(df_ratings, rating_threshold=3, ratio_neg_per_user=1)\n",
    "df_implicit[\"unix_timestamp\"] = 1\n"
   ]
  },
  {
   "cell_type": "code",
   "execution_count": 5,
   "id": "53930be0",
   "metadata": {},
   "outputs": [
    {
     "data": {
      "text/plain": [
       "((100000, 4), (165040, 4))"
      ]
     },
     "execution_count": 5,
     "metadata": {},
     "output_type": "execute_result"
    }
   ],
   "source": [
    "df_ratings.shape, df_implicit.shape"
   ]
  },
  {
   "cell_type": "code",
   "execution_count": 6,
   "id": "20f615ed",
   "metadata": {},
   "outputs": [
    {
     "name": "stdout",
     "output_type": "stream",
     "text": [
      "Number of users:  943\n",
      "Number of items:  1682\n"
     ]
    }
   ],
   "source": [
    "DATA, user_encoder, item_encoder = encode_user_item(df_implicit, \"user_id\", \"movie_id\", \"rating\", \"unix_timestamp\")"
   ]
  },
  {
   "cell_type": "code",
   "execution_count": 7,
   "id": "b3d28a9d",
   "metadata": {},
   "outputs": [
    {
     "data": {
      "text/plain": [
       "(943, 1682)"
      ]
     },
     "execution_count": 7,
     "metadata": {},
     "output_type": "execute_result"
    }
   ],
   "source": [
    "n_users = DATA.USER.nunique()\n",
    "n_items = DATA.ITEM.nunique()\n",
    "n_users, n_items"
   ]
  },
  {
   "cell_type": "code",
   "execution_count": 8,
   "id": "44e3859a",
   "metadata": {},
   "outputs": [
    {
     "data": {
      "text/plain": [
       "(np.int64(0), np.int64(1))"
      ]
     },
     "execution_count": 8,
     "metadata": {},
     "output_type": "execute_result"
    }
   ],
   "source": [
    "max_rating = DATA.RATING.max()\n",
    "min_rating = DATA.RATING.min()\n",
    "min_rating, max_rating"
   ]
  },
  {
   "cell_type": "code",
   "execution_count": 9,
   "id": "dc3eca64",
   "metadata": {},
   "outputs": [],
   "source": [
    "train, test = random_split(DATA, [0.8, 0.2])"
   ]
  },
  {
   "cell_type": "code",
   "execution_count": 10,
   "id": "e5e2ba21",
   "metadata": {},
   "outputs": [
    {
     "data": {
      "text/plain": [
       "((132032, 7), (33008, 7))"
      ]
     },
     "execution_count": 10,
     "metadata": {},
     "output_type": "execute_result"
    }
   ],
   "source": [
    "train.shape, test.shape"
   ]
  },
  {
   "cell_type": "markdown",
   "id": "98443878",
   "metadata": {},
   "source": [
    "# Implicit Matrix Factorisation"
   ]
  },
  {
   "cell_type": "code",
   "execution_count": 11,
   "id": "f9ef7666",
   "metadata": {},
   "outputs": [],
   "source": [
    "from keras.models import Model\n",
    "from keras.layers import Input, Embedding, Flatten, Dot, Add, Lambda, Activation, Reshape\n",
    "from keras.regularizers import l2\n",
    "from keras.constraints import non_neg\n",
    "from keras.utils import plot_model\n",
    "from keras.utils import model_to_dot\n",
    "from reco import vis"
   ]
  },
  {
   "cell_type": "code",
   "execution_count": 12,
   "id": "67d7bb90",
   "metadata": {},
   "outputs": [],
   "source": [
    "def ImplicitMF (n_users, n_items, n_factors):\n",
    "    \n",
    "    # Item Layer\n",
    "    item_input = Input(shape=[1], name='Item')\n",
    "    item_embedding = Embedding(n_items, n_factors, \n",
    "                               embeddings_regularizer=l2(1e-6), \n",
    "                               name='ItemEmbedding')(item_input)\n",
    "    item_vec = Flatten(name='FlattenItemsE')(item_embedding)\n",
    "\n",
    "    # User Layer\n",
    "    user_input = Input(shape=[1], name='User')\n",
    "    user_embedding = Embedding(n_users, n_factors, \n",
    "                               embeddings_regularizer=l2(1e-6), \n",
    "                               name='UserEmbedding')(user_input)\n",
    "    user_vec = Flatten(name='FlattenUsersE')(user_embedding)\n",
    "\n",
    "    # Dot Product of Item and User\n",
    "    rating = Dot(axes=1, name='DotProduct')([item_vec, user_vec])\n",
    "    \n",
    "    # Model Creation\n",
    "    model = Model([user_input, item_input], rating)\n",
    "    \n",
    "    # Compile Model\n",
    "    model.compile(loss='binary_crossentropy', optimizer=\"sgd\")\n",
    "    \n",
    "    return model"
   ]
  },
  {
   "cell_type": "code",
   "execution_count": 13,
   "id": "1575199c",
   "metadata": {},
   "outputs": [],
   "source": [
    "n_factors = 40\n",
    "model = ImplicitMF(n_users, n_items, n_factors)"
   ]
  },
  {
   "cell_type": "code",
   "execution_count": 14,
   "id": "836fee4d",
   "metadata": {},
   "outputs": [
    {
     "data": {
      "text/html": [
       "<pre style=\"white-space:pre;overflow-x:auto;line-height:normal;font-family:Menlo,'DejaVu Sans Mono',consolas,'Courier New',monospace\"><span style=\"font-weight: bold\">Model: \"functional\"</span>\n",
       "</pre>\n"
      ],
      "text/plain": [
       "\u001b[1mModel: \"functional\"\u001b[0m\n"
      ]
     },
     "metadata": {},
     "output_type": "display_data"
    },
    {
     "data": {
      "text/html": [
       "<pre style=\"white-space:pre;overflow-x:auto;line-height:normal;font-family:Menlo,'DejaVu Sans Mono',consolas,'Courier New',monospace\">┏━━━━━━━━━━━━━━━━━━━━━┳━━━━━━━━━━━━━━━━━━━┳━━━━━━━━━━━━┳━━━━━━━━━━━━━━━━━━━┓\n",
       "┃<span style=\"font-weight: bold\"> Layer (type)        </span>┃<span style=\"font-weight: bold\"> Output Shape      </span>┃<span style=\"font-weight: bold\">    Param # </span>┃<span style=\"font-weight: bold\"> Connected to      </span>┃\n",
       "┡━━━━━━━━━━━━━━━━━━━━━╇━━━━━━━━━━━━━━━━━━━╇━━━━━━━━━━━━╇━━━━━━━━━━━━━━━━━━━┩\n",
       "│ Item (<span style=\"color: #0087ff; text-decoration-color: #0087ff\">InputLayer</span>)   │ (<span style=\"color: #00d7ff; text-decoration-color: #00d7ff\">None</span>, <span style=\"color: #00af00; text-decoration-color: #00af00\">1</span>)         │          <span style=\"color: #00af00; text-decoration-color: #00af00\">0</span> │ -                 │\n",
       "├─────────────────────┼───────────────────┼────────────┼───────────────────┤\n",
       "│ User (<span style=\"color: #0087ff; text-decoration-color: #0087ff\">InputLayer</span>)   │ (<span style=\"color: #00d7ff; text-decoration-color: #00d7ff\">None</span>, <span style=\"color: #00af00; text-decoration-color: #00af00\">1</span>)         │          <span style=\"color: #00af00; text-decoration-color: #00af00\">0</span> │ -                 │\n",
       "├─────────────────────┼───────────────────┼────────────┼───────────────────┤\n",
       "│ ItemEmbedding       │ (<span style=\"color: #00d7ff; text-decoration-color: #00d7ff\">None</span>, <span style=\"color: #00af00; text-decoration-color: #00af00\">1</span>, <span style=\"color: #00af00; text-decoration-color: #00af00\">40</span>)     │     <span style=\"color: #00af00; text-decoration-color: #00af00\">67,280</span> │ Item[<span style=\"color: #00af00; text-decoration-color: #00af00\">0</span>][<span style=\"color: #00af00; text-decoration-color: #00af00\">0</span>]        │\n",
       "│ (<span style=\"color: #0087ff; text-decoration-color: #0087ff\">Embedding</span>)         │                   │            │                   │\n",
       "├─────────────────────┼───────────────────┼────────────┼───────────────────┤\n",
       "│ UserEmbedding       │ (<span style=\"color: #00d7ff; text-decoration-color: #00d7ff\">None</span>, <span style=\"color: #00af00; text-decoration-color: #00af00\">1</span>, <span style=\"color: #00af00; text-decoration-color: #00af00\">40</span>)     │     <span style=\"color: #00af00; text-decoration-color: #00af00\">37,720</span> │ User[<span style=\"color: #00af00; text-decoration-color: #00af00\">0</span>][<span style=\"color: #00af00; text-decoration-color: #00af00\">0</span>]        │\n",
       "│ (<span style=\"color: #0087ff; text-decoration-color: #0087ff\">Embedding</span>)         │                   │            │                   │\n",
       "├─────────────────────┼───────────────────┼────────────┼───────────────────┤\n",
       "│ FlattenItemsE       │ (<span style=\"color: #00d7ff; text-decoration-color: #00d7ff\">None</span>, <span style=\"color: #00af00; text-decoration-color: #00af00\">40</span>)        │          <span style=\"color: #00af00; text-decoration-color: #00af00\">0</span> │ ItemEmbedding[<span style=\"color: #00af00; text-decoration-color: #00af00\">0</span>]… │\n",
       "│ (<span style=\"color: #0087ff; text-decoration-color: #0087ff\">Flatten</span>)           │                   │            │                   │\n",
       "├─────────────────────┼───────────────────┼────────────┼───────────────────┤\n",
       "│ FlattenUsersE       │ (<span style=\"color: #00d7ff; text-decoration-color: #00d7ff\">None</span>, <span style=\"color: #00af00; text-decoration-color: #00af00\">40</span>)        │          <span style=\"color: #00af00; text-decoration-color: #00af00\">0</span> │ UserEmbedding[<span style=\"color: #00af00; text-decoration-color: #00af00\">0</span>]… │\n",
       "│ (<span style=\"color: #0087ff; text-decoration-color: #0087ff\">Flatten</span>)           │                   │            │                   │\n",
       "├─────────────────────┼───────────────────┼────────────┼───────────────────┤\n",
       "│ DotProduct (<span style=\"color: #0087ff; text-decoration-color: #0087ff\">Dot</span>)    │ (<span style=\"color: #00d7ff; text-decoration-color: #00d7ff\">None</span>, <span style=\"color: #00af00; text-decoration-color: #00af00\">1</span>)         │          <span style=\"color: #00af00; text-decoration-color: #00af00\">0</span> │ FlattenItemsE[<span style=\"color: #00af00; text-decoration-color: #00af00\">0</span>]… │\n",
       "│                     │                   │            │ FlattenUsersE[<span style=\"color: #00af00; text-decoration-color: #00af00\">0</span>]… │\n",
       "└─────────────────────┴───────────────────┴────────────┴───────────────────┘\n",
       "</pre>\n"
      ],
      "text/plain": [
       "┏━━━━━━━━━━━━━━━━━━━━━┳━━━━━━━━━━━━━━━━━━━┳━━━━━━━━━━━━┳━━━━━━━━━━━━━━━━━━━┓\n",
       "┃\u001b[1m \u001b[0m\u001b[1mLayer (type)       \u001b[0m\u001b[1m \u001b[0m┃\u001b[1m \u001b[0m\u001b[1mOutput Shape     \u001b[0m\u001b[1m \u001b[0m┃\u001b[1m \u001b[0m\u001b[1m   Param #\u001b[0m\u001b[1m \u001b[0m┃\u001b[1m \u001b[0m\u001b[1mConnected to     \u001b[0m\u001b[1m \u001b[0m┃\n",
       "┡━━━━━━━━━━━━━━━━━━━━━╇━━━━━━━━━━━━━━━━━━━╇━━━━━━━━━━━━╇━━━━━━━━━━━━━━━━━━━┩\n",
       "│ Item (\u001b[38;5;33mInputLayer\u001b[0m)   │ (\u001b[38;5;45mNone\u001b[0m, \u001b[38;5;34m1\u001b[0m)         │          \u001b[38;5;34m0\u001b[0m │ -                 │\n",
       "├─────────────────────┼───────────────────┼────────────┼───────────────────┤\n",
       "│ User (\u001b[38;5;33mInputLayer\u001b[0m)   │ (\u001b[38;5;45mNone\u001b[0m, \u001b[38;5;34m1\u001b[0m)         │          \u001b[38;5;34m0\u001b[0m │ -                 │\n",
       "├─────────────────────┼───────────────────┼────────────┼───────────────────┤\n",
       "│ ItemEmbedding       │ (\u001b[38;5;45mNone\u001b[0m, \u001b[38;5;34m1\u001b[0m, \u001b[38;5;34m40\u001b[0m)     │     \u001b[38;5;34m67,280\u001b[0m │ Item[\u001b[38;5;34m0\u001b[0m][\u001b[38;5;34m0\u001b[0m]        │\n",
       "│ (\u001b[38;5;33mEmbedding\u001b[0m)         │                   │            │                   │\n",
       "├─────────────────────┼───────────────────┼────────────┼───────────────────┤\n",
       "│ UserEmbedding       │ (\u001b[38;5;45mNone\u001b[0m, \u001b[38;5;34m1\u001b[0m, \u001b[38;5;34m40\u001b[0m)     │     \u001b[38;5;34m37,720\u001b[0m │ User[\u001b[38;5;34m0\u001b[0m][\u001b[38;5;34m0\u001b[0m]        │\n",
       "│ (\u001b[38;5;33mEmbedding\u001b[0m)         │                   │            │                   │\n",
       "├─────────────────────┼───────────────────┼────────────┼───────────────────┤\n",
       "│ FlattenItemsE       │ (\u001b[38;5;45mNone\u001b[0m, \u001b[38;5;34m40\u001b[0m)        │          \u001b[38;5;34m0\u001b[0m │ ItemEmbedding[\u001b[38;5;34m0\u001b[0m]… │\n",
       "│ (\u001b[38;5;33mFlatten\u001b[0m)           │                   │            │                   │\n",
       "├─────────────────────┼───────────────────┼────────────┼───────────────────┤\n",
       "│ FlattenUsersE       │ (\u001b[38;5;45mNone\u001b[0m, \u001b[38;5;34m40\u001b[0m)        │          \u001b[38;5;34m0\u001b[0m │ UserEmbedding[\u001b[38;5;34m0\u001b[0m]… │\n",
       "│ (\u001b[38;5;33mFlatten\u001b[0m)           │                   │            │                   │\n",
       "├─────────────────────┼───────────────────┼────────────┼───────────────────┤\n",
       "│ DotProduct (\u001b[38;5;33mDot\u001b[0m)    │ (\u001b[38;5;45mNone\u001b[0m, \u001b[38;5;34m1\u001b[0m)         │          \u001b[38;5;34m0\u001b[0m │ FlattenItemsE[\u001b[38;5;34m0\u001b[0m]… │\n",
       "│                     │                   │            │ FlattenUsersE[\u001b[38;5;34m0\u001b[0m]… │\n",
       "└─────────────────────┴───────────────────┴────────────┴───────────────────┘\n"
      ]
     },
     "metadata": {},
     "output_type": "display_data"
    },
    {
     "data": {
      "text/html": [
       "<pre style=\"white-space:pre;overflow-x:auto;line-height:normal;font-family:Menlo,'DejaVu Sans Mono',consolas,'Courier New',monospace\"><span style=\"font-weight: bold\"> Total params: </span><span style=\"color: #00af00; text-decoration-color: #00af00\">105,000</span> (410.16 KB)\n",
       "</pre>\n"
      ],
      "text/plain": [
       "\u001b[1m Total params: \u001b[0m\u001b[38;5;34m105,000\u001b[0m (410.16 KB)\n"
      ]
     },
     "metadata": {},
     "output_type": "display_data"
    },
    {
     "data": {
      "text/html": [
       "<pre style=\"white-space:pre;overflow-x:auto;line-height:normal;font-family:Menlo,'DejaVu Sans Mono',consolas,'Courier New',monospace\"><span style=\"font-weight: bold\"> Trainable params: </span><span style=\"color: #00af00; text-decoration-color: #00af00\">105,000</span> (410.16 KB)\n",
       "</pre>\n"
      ],
      "text/plain": [
       "\u001b[1m Trainable params: \u001b[0m\u001b[38;5;34m105,000\u001b[0m (410.16 KB)\n"
      ]
     },
     "metadata": {},
     "output_type": "display_data"
    },
    {
     "data": {
      "text/html": [
       "<pre style=\"white-space:pre;overflow-x:auto;line-height:normal;font-family:Menlo,'DejaVu Sans Mono',consolas,'Courier New',monospace\"><span style=\"font-weight: bold\"> Non-trainable params: </span><span style=\"color: #00af00; text-decoration-color: #00af00\">0</span> (0.00 B)\n",
       "</pre>\n"
      ],
      "text/plain": [
       "\u001b[1m Non-trainable params: \u001b[0m\u001b[38;5;34m0\u001b[0m (0.00 B)\n"
      ]
     },
     "metadata": {},
     "output_type": "display_data"
    }
   ],
   "source": [
    "model.summary()"
   ]
  },
  {
   "cell_type": "code",
   "execution_count": 15,
   "id": "d54ddffc",
   "metadata": {},
   "outputs": [
    {
     "name": "stdout",
     "output_type": "stream",
     "text": [
      "Directory already exists d:\\Work\\Development\\recommendation_system/model-img\n"
     ]
    }
   ],
   "source": [
    "from reco.utils import create_directory\n",
    "create_directory(\"/model-img\")"
   ]
  },
  {
   "cell_type": "code",
   "execution_count": 16,
   "id": "5c3de9f1",
   "metadata": {},
   "outputs": [
    {
     "data": {
      "image/png": "[encoded data removed]",
      "text/plain": [
       "<IPython.core.display.Image object>"
      ]
     },
     "execution_count": 16,
     "metadata": {},
     "output_type": "execute_result"
    }
   ],
   "source": [
    "plot_model(model, show_layer_names=True, show_shapes=True, to_file=\"model-img/implicit-mf.png\" )"
   ]
  },
  {
   "cell_type": "markdown",
   "id": "58740c4d",
   "metadata": {},
   "source": [
    "## Train the model"
   ]
  },
  {
   "cell_type": "code",
   "execution_count": 17,
   "id": "9d0abef1",
   "metadata": {},
   "outputs": [
    {
     "name": "stdout",
     "output_type": "stream",
     "text": [
      "Epoch 1/5\n",
      "\u001b[1m826/826\u001b[0m \u001b[32m━━━━━━━━━━━━━━━━━━━━\u001b[0m\u001b[37m\u001b[0m \u001b[1m1s\u001b[0m 1ms/step - loss: 5.3972 - val_loss: 5.4015\n",
      "Epoch 2/5\n",
      "\u001b[1m826/826\u001b[0m \u001b[32m━━━━━━━━━━━━━━━━━━━━\u001b[0m\u001b[37m\u001b[0m \u001b[1m1s\u001b[0m 1ms/step - loss: 4.5027 - val_loss: 5.3923\n",
      "Epoch 3/5\n",
      "\u001b[1m826/826\u001b[0m \u001b[32m━━━━━━━━━━━━━━━━━━━━\u001b[0m\u001b[37m\u001b[0m \u001b[1m1s\u001b[0m 1ms/step - loss: 3.4725 - val_loss: 5.4212\n",
      "Epoch 4/5\n",
      "\u001b[1m826/826\u001b[0m \u001b[32m━━━━━━━━━━━━━━━━━━━━\u001b[0m\u001b[37m\u001b[0m \u001b[1m1s\u001b[0m 1ms/step - loss: 2.7407 - val_loss: 5.4290\n",
      "Epoch 5/5\n",
      "\u001b[1m826/826\u001b[0m \u001b[32m━━━━━━━━━━━━━━━━━━━━\u001b[0m\u001b[37m\u001b[0m \u001b[1m1s\u001b[0m 1ms/step - loss: 2.2605 - val_loss: 5.4293\n",
      "CPU times: total: 12.8 s\n",
      "Wall time: 5.1 s\n"
     ]
    }
   ],
   "source": [
    "%%time\n",
    "output = model.fit([train.USER, train.ITEM], train.RATING, \n",
    "                                  batch_size=128, epochs=5, verbose=1, validation_split=0.2)"
   ]
  },
  {
   "cell_type": "code",
   "execution_count": 18,
   "id": "8b9cfba4",
   "metadata": {},
   "outputs": [
    {
     "data": {
      "text/html": [
       "\n",
       "<style>\n",
       "  #altair-viz-8053dbdea8a14939b25ec7c820362439.vega-embed {\n",
       "    width: 100%;\n",
       "    display: flex;\n",
       "  }\n",
       "\n",
       "  #altair-viz-8053dbdea8a14939b25ec7c820362439.vega-embed details,\n",
       "  #altair-viz-8053dbdea8a14939b25ec7c820362439.vega-embed details summary {\n",
       "    position: relative;\n",
       "  }\n",
       "</style>\n",
       "<div id=\"altair-viz-8053dbdea8a14939b25ec7c820362439\"></div>\n",
       "<script type=\"text/javascript\">\n",
       "  var VEGA_DEBUG = (typeof VEGA_DEBUG == \"undefined\") ? {} : VEGA_DEBUG;\n",
       "  (function(spec, embedOpt){\n",
       "    let outputDiv = document.currentScript.previousElementSibling;\n",
       "    if (outputDiv.id !== \"altair-viz-8053dbdea8a14939b25ec7c820362439\") {\n",
       "      outputDiv = document.getElementById(\"altair-viz-8053dbdea8a14939b25ec7c820362439\");\n",
       "    }\n",
       "\n",
       "    const paths = {\n",
       "      \"vega\": \"https://cdn.jsdelivr.net/npm/vega@5?noext\",\n",
       "      \"vega-lib\": \"https://cdn.jsdelivr.net/npm/vega-lib?noext\",\n",
       "      \"vega-lite\": \"https://cdn.jsdelivr.net/npm/vega-lite@5.20.1?noext\",\n",
       "      \"vega-embed\": \"https://cdn.jsdelivr.net/npm/vega-embed@6?noext\",\n",
       "    };\n",
       "\n",
       "    function maybeLoadScript(lib, version) {\n",
       "      var key = `${lib.replace(\"-\", \"\")}_version`;\n",
       "      return (VEGA_DEBUG[key] == version) ?\n",
       "        Promise.resolve(paths[lib]) :\n",
       "        new Promise(function(resolve, reject) {\n",
       "          var s = document.createElement('script');\n",
       "          document.getElementsByTagName(\"head\")[0].appendChild(s);\n",
       "          s.async = true;\n",
       "          s.onload = () => {\n",
       "            VEGA_DEBUG[key] = version;\n",
       "            return resolve(paths[lib]);\n",
       "          };\n",
       "          s.onerror = () => reject(`Error loading script: ${paths[lib]}`);\n",
       "          s.src = paths[lib];\n",
       "        });\n",
       "    }\n",
       "\n",
       "    function showError(err) {\n",
       "      outputDiv.innerHTML = `<div class=\"error\" style=\"color:red;\">${err}</div>`;\n",
       "      throw err;\n",
       "    }\n",
       "\n",
       "    function displayChart(vegaEmbed) {\n",
       "      vegaEmbed(outputDiv, spec, embedOpt)\n",
       "        .catch(err => showError(`Javascript Error: ${err.message}<br>This usually means there's a typo in your chart specification. See the javascript console for the full traceback.`));\n",
       "    }\n",
       "\n",
       "    if(typeof define === \"function\" && define.amd) {\n",
       "      requirejs.config({paths});\n",
       "      let deps = [\"vega-embed\"];\n",
       "      require(deps, displayChart, err => showError(`Error loading script: ${err.message}`));\n",
       "    } else {\n",
       "      maybeLoadScript(\"vega\", \"5\")\n",
       "        .then(() => maybeLoadScript(\"vega-lite\", \"5.20.1\"))\n",
       "        .then(() => maybeLoadScript(\"vega-embed\", \"6\"))\n",
       "        .catch(showError)\n",
       "        .then(() => displayChart(vegaEmbed));\n",
       "    }\n",
       "  })({\"config\": {\"view\": {\"continuousWidth\": 300, \"continuousHeight\": 300}}, \"data\": {\"name\": \"data-62cd6bff8cdc19228036cf171d40b352\"}, \"facet\": {\"column\": {\"field\": \"metrics\", \"type\": \"nominal\"}}, \"spec\": {\"layer\": [{\"mark\": {\"type\": \"circle\", \"size\": 50}, \"encoding\": {\"color\": {\"field\": \"type\", \"type\": \"nominal\"}, \"tooltip\": [{\"field\": \"batch\", \"type\": \"quantitative\"}, {\"field\": \"value\", \"type\": \"quantitative\"}], \"x\": {\"field\": \"batch\", \"type\": \"quantitative\"}, \"y\": {\"field\": \"value\", \"type\": \"quantitative\"}}}, {\"mark\": {\"type\": \"line\"}, \"encoding\": {\"color\": {\"field\": \"type\", \"type\": \"nominal\"}, \"x\": {\"field\": \"batch\", \"type\": \"quantitative\"}, \"y\": {\"field\": \"value\", \"type\": \"quantitative\"}}}], \"height\": 300, \"width\": 300}, \"resolve\": {\"scale\": {\"y\": \"independent\"}}, \"$schema\": \"https://vega.github.io/schema/vega-lite/v5.20.1.json\", \"datasets\": {\"data-62cd6bff8cdc19228036cf171d40b352\": [{\"batch\": 1, \"value\": 5.266327381134033, \"type\": \"training\", \"metrics\": \"loss\"}, {\"batch\": 2, \"value\": 4.298489570617676, \"type\": \"training\", \"metrics\": \"loss\"}, {\"batch\": 3, \"value\": 3.285027503967285, \"type\": \"training\", \"metrics\": \"loss\"}, {\"batch\": 4, \"value\": 2.606973171234131, \"type\": \"training\", \"metrics\": \"loss\"}, {\"batch\": 5, \"value\": 2.179891347885132, \"type\": \"training\", \"metrics\": \"loss\"}, {\"batch\": 1, \"value\": 5.4014692306518555, \"type\": \"validation\", \"metrics\": \"loss\"}, {\"batch\": 2, \"value\": 5.392280101776123, \"type\": \"validation\", \"metrics\": \"loss\"}, {\"batch\": 3, \"value\": 5.421217441558838, \"type\": \"validation\", \"metrics\": \"loss\"}, {\"batch\": 4, \"value\": 5.42903995513916, \"type\": \"validation\", \"metrics\": \"loss\"}, {\"batch\": 5, \"value\": 5.429312705993652, \"type\": \"validation\", \"metrics\": \"loss\"}]}}, {\"mode\": \"vega-lite\"});\n",
       "</script>"
      ],
      "text/plain": [
       "alt.FacetChart(...)"
      ]
     },
     "execution_count": 18,
     "metadata": {},
     "output_type": "execute_result"
    }
   ],
   "source": [
    "vis.metrics(output.history)"
   ]
  },
  {
   "cell_type": "markdown",
   "id": "40955ea2",
   "metadata": {},
   "source": [
    "# Score the model"
   ]
  },
  {
   "cell_type": "code",
   "execution_count": 19,
   "id": "18248600",
   "metadata": {},
   "outputs": [
    {
     "name": "stdout",
     "output_type": "stream",
     "text": [
      "\u001b[1m1032/1032\u001b[0m \u001b[32m━━━━━━━━━━━━━━━━━━━━\u001b[0m\u001b[37m\u001b[0m \u001b[1m1s\u001b[0m 632us/step - loss: 5.4222\n"
     ]
    },
    {
     "data": {
      "text/plain": [
       "5.285563945770264"
      ]
     },
     "execution_count": 19,
     "metadata": {},
     "output_type": "execute_result"
    }
   ],
   "source": [
    "score = model.evaluate([test.USER, test.ITEM], test.RATING, verbose=1)\n",
    "score"
   ]
  },
  {
   "cell_type": "markdown",
   "id": "c209ec2e",
   "metadata": {},
   "source": [
    "## Evaluate the model"
   ]
  },
  {
   "cell_type": "code",
   "execution_count": 20,
   "id": "38979d96",
   "metadata": {},
   "outputs": [],
   "source": [
    "from reco.evaluate import get_embedding, get_predictions, recommend_topk\n",
    "from reco.evaluate import precision_at_k, recall_at_k, ndcg_at_k"
   ]
  },
  {
   "cell_type": "code",
   "execution_count": 21,
   "id": "baa42a1c",
   "metadata": {},
   "outputs": [],
   "source": [
    "item_embedding = get_embedding(model, \"ItemEmbedding\")\n",
    "user_embedding = get_embedding(model, \"UserEmbedding\")"
   ]
  },
  {
   "cell_type": "code",
   "execution_count": 22,
   "id": "c967181e",
   "metadata": {},
   "outputs": [
    {
     "name": "stdout",
     "output_type": "stream",
     "text": [
      "\u001b[1m49567/49567\u001b[0m \u001b[32m━━━━━━━━━━━━━━━━━━━━\u001b[0m\u001b[37m\u001b[0m \u001b[1m30s\u001b[0m 605us/step\n",
      "CPU times: total: 1min 3s\n",
      "Wall time: 47.7 s\n"
     ]
    }
   ],
   "source": [
    "%%time\n",
    "predictions = get_predictions(model, DATA)"
   ]
  },
  {
   "cell_type": "code",
   "execution_count": 23,
   "id": "e5e2847f",
   "metadata": {},
   "outputs": [
    {
     "data": {
      "text/html": [
       "<div>\n",
       "<style scoped>\n",
       "    .dataframe tbody tr th:only-of-type {\n",
       "        vertical-align: middle;\n",
       "    }\n",
       "\n",
       "    .dataframe tbody tr th {\n",
       "        vertical-align: top;\n",
       "    }\n",
       "\n",
       "    .dataframe thead th {\n",
       "        text-align: right;\n",
       "    }\n",
       "</style>\n",
       "<table border=\"1\" class=\"dataframe\">\n",
       "  <thead>\n",
       "    <tr style=\"text-align: right;\">\n",
       "      <th></th>\n",
       "      <th>USER</th>\n",
       "      <th>ITEM</th>\n",
       "      <th>RATING_PRED</th>\n",
       "    </tr>\n",
       "  </thead>\n",
       "  <tbody>\n",
       "    <tr>\n",
       "      <th>0</th>\n",
       "      <td>0</td>\n",
       "      <td>46</td>\n",
       "      <td>0.147496</td>\n",
       "    </tr>\n",
       "    <tr>\n",
       "      <th>1</th>\n",
       "      <td>0</td>\n",
       "      <td>116</td>\n",
       "      <td>0.362054</td>\n",
       "    </tr>\n",
       "    <tr>\n",
       "      <th>2</th>\n",
       "      <td>0</td>\n",
       "      <td>264</td>\n",
       "      <td>0.160769</td>\n",
       "    </tr>\n",
       "    <tr>\n",
       "      <th>3</th>\n",
       "      <td>0</td>\n",
       "      <td>170</td>\n",
       "      <td>0.113659</td>\n",
       "    </tr>\n",
       "    <tr>\n",
       "      <th>4</th>\n",
       "      <td>0</td>\n",
       "      <td>201</td>\n",
       "      <td>0.386391</td>\n",
       "    </tr>\n",
       "  </tbody>\n",
       "</table>\n",
       "</div>"
      ],
      "text/plain": [
       "   USER  ITEM  RATING_PRED\n",
       "0     0    46     0.147496\n",
       "1     0   116     0.362054\n",
       "2     0   264     0.160769\n",
       "3     0   170     0.113659\n",
       "4     0   201     0.386391"
      ]
     },
     "execution_count": 23,
     "metadata": {},
     "output_type": "execute_result"
    }
   ],
   "source": [
    "predictions.head()"
   ]
  },
  {
   "cell_type": "code",
   "execution_count": 24,
   "id": "c175555d",
   "metadata": {},
   "outputs": [
    {
     "name": "stdout",
     "output_type": "stream",
     "text": [
      "\u001b[1m49567/49567\u001b[0m \u001b[32m━━━━━━━━━━━━━━━━━━━━\u001b[0m\u001b[37m\u001b[0m \u001b[1m28s\u001b[0m 558us/step\n",
      "CPU times: total: 56.4 s\n",
      "Wall time: 40.7 s\n"
     ]
    }
   ],
   "source": [
    "%%time\n",
    "# Recommendation for Top10K\n",
    "ranking_topk = recommend_topk(model, DATA, train, k=5)"
   ]
  },
  {
   "cell_type": "code",
   "execution_count": 25,
   "id": "6b63ca6c",
   "metadata": {},
   "outputs": [
    {
     "name": "stdout",
     "output_type": "stream",
     "text": [
      "NDCG@K:\t0.112811\n",
      "Precision@K:\t0.089394\n",
      "Recall@K:\t0.006116\n"
     ]
    }
   ],
   "source": [
    "eval_precision = precision_at_k(test, ranking_topk, k=10)\n",
    "eval_recall = recall_at_k(test, ranking_topk, k=10)\n",
    "eval_ndcg = ndcg_at_k(test, ranking_topk, k=10)\n",
    "\n",
    "print(\"NDCG@K:\\t%f\" % eval_ndcg,\n",
    "      \"Precision@K:\\t%f\" % eval_precision,\n",
    "      \"Recall@K:\\t%f\" % eval_recall, sep='\\n')"
   ]
  },
  {
   "cell_type": "markdown",
   "id": "15b013d2",
   "metadata": {},
   "source": [
    "## Get similar items"
   ]
  },
  {
   "cell_type": "code",
   "execution_count": 35,
   "id": "7b147eb3",
   "metadata": {},
   "outputs": [],
   "source": [
    "from reco.recommend import get_similar"
   ]
  },
  {
   "cell_type": "code",
   "execution_count": 36,
   "id": "2207766d",
   "metadata": {},
   "outputs": [
    {
     "name": "stdout",
     "output_type": "stream",
     "text": [
      "CPU times: total: 93.8 ms\n",
      "Wall time: 85.2 ms\n"
     ]
    }
   ],
   "source": [
    "%%time\n",
    "item_distances, item_similar_indices = get_similar(item_embedding, 5)"
   ]
  },
  {
   "cell_type": "code",
   "execution_count": 37,
   "id": "b4828f04",
   "metadata": {},
   "outputs": [
    {
     "data": {
      "text/plain": [
       "array([[   0,  404,    6,   21,  196],\n",
       "       [   1,  464,  897,  944,   80],\n",
       "       [   2,   89,  449,  805,  542],\n",
       "       ...,\n",
       "       [1679, 1055, 1286,  806, 1608],\n",
       "       [1680, 1315, 1661, 1418, 1161],\n",
       "       [1681,  896,  909,  554, 1336]])"
      ]
     },
     "execution_count": 37,
     "metadata": {},
     "output_type": "execute_result"
    }
   ],
   "source": [
    "item_similar_indices"
   ]
  },
  {
   "cell_type": "code",
   "execution_count": 40,
   "id": "746f3dbc",
   "metadata": {},
   "outputs": [],
   "source": [
    "import numpy as np\n",
    "import pandas as pd\n",
    "from sklearn.neighbors import NearestNeighbors\n",
    "import matplotlib.pyplot as plt\n",
    "import matplotlib.image as mpimg\n",
    "import PIL"
   ]
  },
  {
   "cell_type": "code",
   "execution_count": 59,
   "id": "766d7d58",
   "metadata": {},
   "outputs": [],
   "source": [
    "def show_similar(item_index, item_similar_indices, item_encoder, df_items):\n",
    "    s = item_similar_indices[item_index]\n",
    "    movie_ids = item_encoder.inverse_transform(s)\n",
    "\n",
    "    images = []\n",
    "    titles = []\n",
    "    for movie_id in movie_ids:\n",
    "        movie = df_items[df_items[\"movie_id\"] == movie_id]\n",
    "        if not movie.empty:\n",
    "            # Extract just the string value from the Series\n",
    "            title = movie['title'].values[0]\n",
    "            titles.append(title)\n",
    "            \n",
    "            img_path = \"data/posters/\" + str(movie_id) + \".0.jpg\"\n",
    "            try:\n",
    "                images.append(mpimg.imread(img_path))\n",
    "            except FileNotFoundError:\n",
    "                try:\n",
    "                    img_path = \"data/posters/\" + str(movie_id) + \".jpg\"\n",
    "                    images.append(mpimg.imread(img_path))\n",
    "                except FileNotFoundError:\n",
    "                    print(f\"Image not found for movie ID {movie_id}\")\n",
    "                    continue\n",
    "\n",
    "    if not images:\n",
    "        print(\"No images found to display\")\n",
    "        return\n",
    "\n",
    "    # Print just the titles\n",
    "    for title in titles:\n",
    "        print(title)"
   ]
  },
  {
   "cell_type": "code",
   "execution_count": 60,
   "id": "f58918d8",
   "metadata": {},
   "outputs": [
    {
     "name": "stdout",
     "output_type": "stream",
     "text": [
      "Toy Story (1995)\n",
      "Mission: Impossible (1996)\n",
      "Twelve Monkeys (1995)\n",
      "Braveheart (1995)\n",
      "Graduate, The (1967)\n"
     ]
    }
   ],
   "source": [
    "show_similar(0, item_similar_indices, item_encoder, df_items=df_items)"
   ]
  },
  {
   "cell_type": "code",
   "execution_count": null,
   "id": "91468a7e",
   "metadata": {},
   "outputs": [],
   "source": []
  }
 ],
 "metadata": {
  "kernelspec": {
   "display_name": "venv",
   "language": "python",
   "name": "python3"
  },
  "language_info": {
   "codemirror_mode": {
    "name": "ipython",
    "version": 3
   },
   "file_extension": ".py",
   "mimetype": "text/x-python",
   "name": "python",
   "nbconvert_exporter": "python",
   "pygments_lexer": "ipython3",
   "version": "3.12.4"
  }
 },
 "nbformat": 4,
 "nbformat_minor": 5
}
